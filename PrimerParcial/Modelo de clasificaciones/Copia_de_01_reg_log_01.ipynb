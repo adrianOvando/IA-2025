{
  "cells": [
    {
      "cell_type": "markdown",
      "metadata": {
        "id": "9L0KhPHmJVNa"
      },
      "source": [
        "# Ejercicion de programación - Regresión Logistica\n",
        "\n",
        "En este ejercicio se implementa regresion logistica y se aplica a dos diferentes datasets."
      ]
    },
    {
      "cell_type": "code",
      "source": [
        "from google.colab import drive\n",
        "drive.mount('/content/drive')"
      ],
      "metadata": {
        "colab": {
          "base_uri": "https://localhost:8080/"
        },
        "id": "z5PQZyiqJhUu",
        "outputId": "ffdef326-6556-4471-9588-292bc6496601"
      },
      "execution_count": 5,
      "outputs": [
        {
          "output_type": "stream",
          "name": "stdout",
          "text": [
            "Drive already mounted at /content/drive; to attempt to forcibly remount, call drive.mount(\"/content/drive\", force_remount=True).\n"
          ]
        }
      ]
    },
    {
      "cell_type": "code",
      "source": [
        "import zipfile\n",
        "import os\n",
        "\n",
        "ruta_zip = '/content/drive/MyDrive/ia/GeolifeTrajectories1.3.zip'\n",
        "directorio_destino = '/content/Geolife'\n",
        "\n",
        "# Crear directorio si no existe\n",
        "os.makedirs(directorio_destino, exist_ok=True)\n",
        "\n",
        "# Descomprimir con manejo de errores\n",
        "try:\n",
        "    with zipfile.ZipFile(ruta_zip, 'r') as zip_ref:\n",
        "        zip_ref.extractall(directorio_destino)\n",
        "    print(\"¡Descompresión exitosa!\")\n",
        "except Exception as e:\n",
        "    print(f\"Error al descomprimir: {str(e)}\")"
      ],
      "metadata": {
        "id": "vkOvLULoh5b8",
        "colab": {
          "base_uri": "https://localhost:8080/"
        },
        "outputId": "b8442448-0b00-4b52-df40-5724ed470611"
      },
      "execution_count": 96,
      "outputs": [
        {
          "output_type": "stream",
          "name": "stdout",
          "text": [
            "¡Descompresión exitosa!\n"
          ]
        }
      ]
    },
    {
      "cell_type": "code",
      "source": [
        "!ls '/content/Geolife/Geolife Trajectories 1.3/Data'"
      ],
      "metadata": {
        "id": "muOoRq9eiFc5",
        "colab": {
          "base_uri": "https://localhost:8080/"
        },
        "outputId": "e5335c0c-7028-4a0a-f05e-ae48323267ea"
      },
      "execution_count": 97,
      "outputs": [
        {
          "output_type": "stream",
          "name": "stdout",
          "text": [
            "000  010  020  030  040  050  060  070\t080  090  100  110  120  130  140  150\t160  170  180\n",
            "001  011  021  031  041  051  061  071\t081  091  101  111  121  131  141  151\t161  171  181\n",
            "002  012  022  032  042  052  062  072\t082  092  102  112  122  132  142  152\t162  172\n",
            "003  013  023  033  043  053  063  073\t083  093  103  113  123  133  143  153\t163  173\n",
            "004  014  024  034  044  054  064  074\t084  094  104  114  124  134  144  154\t164  174\n",
            "005  015  025  035  045  055  065  075\t085  095  105  115  125  135  145  155\t165  175\n",
            "006  016  026  036  046  056  066  076\t086  096  106  116  126  136  146  156\t166  176\n",
            "007  017  027  037  047  057  067  077\t087  097  107  117  127  137  147  157\t167  177\n",
            "008  018  028  038  048  058  068  078\t088  098  108  118  128  138  148  158\t168  178\n",
            "009  019  029  039  049  059  069  079\t089  099  109  119  129  139  149  159\t169  179\n"
          ]
        }
      ]
    },
    {
      "cell_type": "markdown",
      "metadata": {
        "id": "t52vBnb_JVNe"
      },
      "source": [
        "## 1 Regresion Logistica\n",
        "\n",
        "En esta parte del ejercicio, creará un modelo de regresión logística\n",
        "\n",
        "La siguiente celda cargará los datos y las etiquetas correspondientes:"
      ]
    },
    {
      "cell_type": "code",
      "execution_count": 98,
      "metadata": {
        "colab": {
          "base_uri": "https://localhost:8080/"
        },
        "id": "WVzUelTXJVNe",
        "outputId": "4bc66011-d7c0-4442-9f5e-7297261b5324"
      },
      "outputs": [
        {
          "output_type": "stream",
          "name": "stdout",
          "text": [
            "         lat         lon  velocidad_kmh  target\n",
            "0  39.984702  116.318417       0.000000       0\n",
            "1  39.984683  116.318450       2.543364       0\n",
            "2  39.984686  116.318417       2.655870       0\n",
            "3  39.984688  116.318385       2.569817       0\n",
            "4  39.984655  116.318263      10.129755       0\n"
          ]
        }
      ],
      "source": [
        "# Cargar datos\n",
        "import pandas as pd\n",
        "import numpy as np\n",
        "\n",
        "def cargar_y_procesar(ruta_plt):\n",
        "    # Cargar datos (saltar 6 filas de metadatos)\n",
        "    df = pd.read_csv(ruta_plt, skiprows=6, header=None,\n",
        "                     names=['lat', 'lon', 'cero', 'alt', 'dias', 'fecha', 'hora'])\n",
        "\n",
        "    df['tiempo'] = pd.to_datetime(df['fecha'] + ' ' + df['hora'])\n",
        "    df['delta_t'] = df['tiempo'].diff().dt.total_seconds()\n",
        "    df['delta_km'] = np.sqrt(df['lat'].diff()**2 + df['lon'].diff()**2) * 111.32  # 1 grado ≈ 111.32 km\n",
        "    df['velocidad_kmh'] = (df['delta_km'] / (df['delta_t'] / 3600)).fillna(0)\n",
        "\n",
        "    df['target'] = (df['velocidad_kmh'] > 20).astype(int)\n",
        "\n",
        "    return df\n",
        "\n",
        "# Ejemplo con un archivo\n",
        "ruta_ejemplo = '/content/Geolife/Geolife Trajectories 1.3/Data/000/Trajectory/20081023025304.plt'\n",
        "df = cargar_y_procesar(ruta_ejemplo)\n",
        "print(df[['lat', 'lon', 'velocidad_kmh', 'target']].head())\n",
        "\n",
        "\n"
      ]
    },
    {
      "cell_type": "markdown",
      "source": [
        "Distribución de clases:\n",
        "\n",
        "Caminar/Bici (0): 877 puntos (96.6%)\n",
        "\n",
        "Transporte (1): 31 puntos (3.4%)\n",
        "\n",
        "Problema: El dataset está altamente desbalanceado, con una proporción de 28:1 a favor de la clase mayoritaria (caminar/bici)."
      ],
      "metadata": {
        "id": "X0_lo2ZWG7HJ"
      }
    },
    {
      "cell_type": "code",
      "source": [
        "print(f\"Total de puntos: {len(df)}\")\n",
        "print(f\" - Caminar/Bici (0): {len(df[df['target']==0])}\")\n",
        "print(f\" - Transporte (1): {len(df[df['target']==1])}\")"
      ],
      "metadata": {
        "colab": {
          "base_uri": "https://localhost:8080/"
        },
        "id": "wOZNeoE0a9UL",
        "outputId": "391ba78c-a5fe-4f21-bdf9-bb179eb8751e"
      },
      "execution_count": 99,
      "outputs": [
        {
          "output_type": "stream",
          "name": "stdout",
          "text": [
            "Total de puntos: 908\n",
            " - Caminar/Bici (0): 877\n",
            " - Transporte (1): 31\n"
          ]
        }
      ]
    },
    {
      "cell_type": "markdown",
      "metadata": {
        "id": "5wAs5p25JVNf"
      },
      "source": [
        "### 1.1 Visualizar los datos\n",
        "\n",
        "Antes de comenzar a implementar cualquier algoritmo de aprendizaje, siempre es bueno visualizar los datos si es posible. Mostramos los datos en una gráfica bidimensional llamando a la función `plotData`. Se completará el código en `plotData` para que muestre una figura donde los ejes son los dos puntajes de los dos examenes, los ejemplos positivos y negativos se muestran con diferentes marcadores."
      ]
    },
    {
      "cell_type": "code",
      "execution_count": 100,
      "metadata": {
        "id": "PU2IfSLdJVNf",
        "colab": {
          "base_uri": "https://localhost:8080/",
          "height": 472
        },
        "outputId": "16dea2da-2ceb-4426-95a7-d9da4c656028"
      },
      "outputs": [
        {
          "output_type": "display_data",
          "data": {
            "text/plain": [
              "<Figure size 640x480 with 1 Axes>"
            ],
            "image/png": "[encoded data removed]"
          },
          "metadata": {}
        }
      ],
      "source": [
        "from matplotlib import pyplot\n",
        "\n",
        "def plotData(X, y):\n",
        "    fig = pyplot.figure()\n",
        "    pos = y == 1\n",
        "    neg = y == 0\n",
        "\n",
        "    pyplot.plot(X[pos, 0], X[pos, 1], 'k*', lw=2, ms=10, label='Transporte (>20 km/h)')\n",
        "    pyplot.plot(X[neg, 0], X[neg, 1], 'ko', mfc='y', ms=8, mec='k', mew=1, label='Caminar/Bici')\n",
        "    pyplot.xlabel('Latitud')\n",
        "    pyplot.ylabel('Longitud')\n",
        "    pyplot.legend()\n",
        "    pyplot.title('Clasificación de movimiento según velocidad')\n",
        "    pyplot.show()\n",
        "\n",
        "\n",
        "X = df[['lat', 'lon']].to_numpy()  # array\n",
        "y = df['target'].to_numpy()\n",
        "\n",
        "plotData(X, y)\n"
      ]
    },
    {
      "cell_type": "markdown",
      "metadata": {
        "id": "llREAw-3JVNg"
      },
      "source": [
        "Se observa el desbalance del dataset. nos muestra en referencia a a long y lat en donde estaban caminando o del transporte."
      ]
    },
    {
      "cell_type": "markdown",
      "source": [],
      "metadata": {
        "id": "OnIvTnPZNo1t"
      }
    },
    {
      "cell_type": "markdown",
      "metadata": {
        "id": "Pfpf9aEFJVNg"
      },
      "source": [
        "<a id=\"section1\"></a>\n",
        "### 1.2 Implementacion\n",
        "\n",
        "#### 1.2.1 Fución Sigmoidea\n",
        "\n",
        "La hipotesis para la regresión logistica se define como:\n",
        "\n",
        "$$ h_\\theta(x) = g(\\theta^T x)$$\n",
        "\n",
        "donde la función $g$ is la función sigmoidea. La función sigmoidea se define como:\n",
        "\n",
        "$$g(z) = \\frac{1}{1+e^{-z}}$$.\n",
        "\n",
        "Los resultados que debe generar la funcion sigmoidea para valores positivos amplios de `x`, deben ser cercanos a 1, mientras que para valores negativos grandes, la sigmoide debe generar valores cercanos 0. La evaluacion de `sigmoid(0)` debe dar un resultado exacto de 0.5. Esta funcion tambien debe poder trabajar con vectores y matrices."
      ]
    },
    {
      "cell_type": "code",
      "execution_count": 101,
      "metadata": {
        "id": "pk9dV23xJVNh"
      },
      "outputs": [],
      "source": [
        "def sigmoid(z):\n",
        "    return 1 / (1 + np.exp(-z))\n"
      ]
    },
    {
      "cell_type": "code",
      "source": [
        "X = df[['velocidad_kmh']].values\n",
        "y = df['target'].values\n",
        "\n",
        "X = np.hstack([np.ones((X.shape[0], 1)), X])\n",
        "\n",
        "theta = np.array([0, 1])\n"
      ],
      "metadata": {
        "id": "9qL9jguDglPq"
      },
      "execution_count": 102,
      "outputs": []
    },
    {
      "cell_type": "code",
      "execution_count": 103,
      "metadata": {
        "colab": {
          "base_uri": "https://localhost:8080/"
        },
        "id": "uIPk61NLJVNh",
        "outputId": "3449fd23-fadc-4837-a40f-607ad9b12b63"
      },
      "outputs": [
        {
          "output_type": "stream",
          "name": "stdout",
          "text": [
            "g( [ 0.          2.54336359  2.65587031  2.56981732 10.12975496] ) =  [0.5        0.92712641 0.93437188 0.92889363 0.99996013]\n"
          ]
        }
      ],
      "source": [
        "# Prueba la implementacion de la funcion sigmoid\n",
        "z = np.dot(X, theta)\n",
        "g = sigmoid(z)\n",
        "\n",
        "print('g(', z[:5], ') = ', g[:5])"
      ]
    },
    {
      "cell_type": "markdown",
      "metadata": {
        "id": "tDl3_8hvJVNi"
      },
      "source": [
        "<a id=\"section2\"></a>\n",
        "#### 1.2.2 Función de Costo y Gradiente\n",
        "\n"
      ]
    },
    {
      "cell_type": "markdown",
      "metadata": {
        "id": "dREHB51mJVNi"
      },
      "source": [
        "La funcion de costo en una regresión logistica es:\n",
        "\n",
        "$$ J(\\theta) = \\frac{1}{m} \\sum_{i=1}^{m} \\left[ -y^{(i)} \\log\\left(h_\\theta\\left( x^{(i)} \\right) \\right) - \\left( 1 - y^{(i)}\\right) \\log \\left( 1 - h_\\theta\\left( x^{(i)} \\right) \\right) \\right]$$\n",
        "\n",
        "y el gradiente del costo es un vector de la misma longitud como $\\theta$ donde el elemento $j^{th}$ (para $j = 0, 1, \\cdots , n$) se define como:\n",
        "\n",
        "$$ \\frac{\\partial J(\\theta)}{\\partial \\theta_j} = \\frac{1}{m} \\sum_{i=1}^m \\left( h_\\theta \\left( x^{(i)} \\right) - y^{(i)} \\right) x_j^{(i)} $$\n",
        "\n",
        "Si bien este gradiente parece idéntico al gradiente de regresión lineal, la fórmula es diferente porque la regresión lineal y logística tienen diferentes definiciones de $h_\\theta(x)$.\n",
        "<a id=\"costFunction\"></a>"
      ]
    },
    {
      "cell_type": "code",
      "execution_count": 104,
      "metadata": {
        "id": "iqDZRIgjJVNi"
      },
      "outputs": [],
      "source": [
        "def costFunction(X, y, theta):\n",
        "    m = len(y)  # Número de ejemplos\n",
        "    h = sigmoid(np.dot(X, theta))  # Predicción con la sigmoide\n",
        "    # Cálculo del costo (función de costo de la regresión logística)\n",
        "    J = (1/m) * np.sum(-y * np.log(h) - (1 - y) * np.log(1 - h))\n",
        "    return J\n"
      ]
    },
    {
      "cell_type": "code",
      "execution_count": 105,
      "metadata": {
        "id": "7G4SjTrwJVNi"
      },
      "outputs": [],
      "source": [
        "def descensoGradiente(theta, X, y, alpha, num_iters):\n",
        "    m = y.shape[0]  # Número de ejemplos de entrenamiento\n",
        "    theta = theta.copy()  # Copia de los parámetros iniciales\n",
        "    J_history = []  # Para almacenar el historial del costo\n",
        "\n",
        "    for i in range(num_iters):\n",
        "        h = sigmoid(np.dot(X, theta))  # Predicción\n",
        "        theta = theta - (alpha / m) * np.dot(X.T, (h - y))  # Actualización de los parámetros\n",
        "\n",
        "        J_history.append(costFunction(X, y, theta))  # Calcular el costo\n",
        "    return theta, J_history"
      ]
    },
    {
      "cell_type": "code",
      "execution_count": 108,
      "metadata": {
        "scrolled": true,
        "colab": {
          "base_uri": "https://localhost:8080/",
          "height": 484
        },
        "id": "rBUlehg6JVNi",
        "outputId": "6427e9f1-4645-4070-a839-8f063fd59148"
      },
      "outputs": [
        {
          "output_type": "stream",
          "name": "stdout",
          "text": [
            "theta calculado por el descenso por el gradiente: [-0.0313871  -0.11055756]\n",
            "Predicción para velocidad 20 km/h (¿transporte?): 0\n"
          ]
        },
        {
          "output_type": "display_data",
          "data": {
            "text/plain": [
              "<Figure size 640x480 with 1 Axes>"
            ],
            "image/png": "[encoded data removed]"
          },
          "metadata": {}
        }
      ],
      "source": [
        "# Elegir algun valor para alpha (probar varias alternativas)\n",
        "alpha = 0.001\n",
        "num_iters = 100\n",
        "\n",
        "# inicializa theta y ejecuta el descenso por el gradiente\n",
        "\n",
        "X = df[['velocidad_kmh']].values\n",
        "y = df['target'].values\n",
        "\n",
        "\n",
        "X = np.hstack([np.ones((X.shape[0], 1)), X])\n",
        "\n",
        "theta = np.zeros(X.shape[1])\n",
        "theta, J_history = descensoGradiente(theta, X, y, alpha, num_iters)\n",
        "\n",
        "\n",
        "# Grafica la convergencia del costo\n",
        "pyplot.plot(np.arange(len(J_history)), J_history, lw=2)\n",
        "pyplot.xlabel('Número de iteraciones')\n",
        "pyplot.ylabel('Costo J')\n",
        "\n",
        "print('theta calculado por el descenso por el gradiente: {:s}'.format(str(theta)))\n",
        "\n",
        "X_array = [1, 20]\n",
        "prediccion = sigmoid(np.dot(X_array, theta))  # Aplicamos la sigmoide\n",
        "print('Predicción para velocidad 20 km/h (¿transporte?): {:.0f}'.format(prediccion))\n"
      ]
    },
    {
      "cell_type": "markdown",
      "source": [
        "El resultado actual (siempre predecir 0) es esperado dado el desbalance extremo. No refleja un error en la implementación, sino una limitación intrínseca de los datos. Para un modelo útil, se requiere:\n",
        "\n",
        "Más datos de transporte (idealmente, proporción 60:40 o similar)."
      ],
      "metadata": {
        "id": "V0O6-esjFF66"
      }
    },
    {
      "cell_type": "code",
      "source": [
        "X_test = np.array([1, 20])\n",
        "prediccion = sigmoid(np.dot(X_test, theta))\n",
        "print('Predicción para velocidad 20 km/h (¿transporte?): {:.0f}'.format(prediccion))"
      ],
      "metadata": {
        "colab": {
          "base_uri": "https://localhost:8080/"
        },
        "id": "EZkRNPAt11hX",
        "outputId": "d6288792-9033-446c-9981-48082bb83388"
      },
      "execution_count": 110,
      "outputs": [
        {
          "output_type": "stream",
          "name": "stdout",
          "text": [
            "Predicción para velocidad 20 km/h (¿transporte?): 0\n"
          ]
        }
      ]
    },
    {
      "cell_type": "code",
      "execution_count": 116,
      "metadata": {
        "id": "C2Qew-sRJVNj"
      },
      "outputs": [],
      "source": [
        "def costFunction(theta, X, y):\n",
        "    m = y.size\n",
        "    h = sigmoid(X.dot(theta.T))\n",
        "    J = (1 / m) * np.sum(-y.dot(np.log(h)) - (1 - y).dot(np.log(1 - h)))\n",
        "    grad = (1 / m) * (h - y).dot(X)\n",
        "    return J, grad"
      ]
    },
    {
      "cell_type": "markdown",
      "metadata": {
        "id": "1ioLXhR5JVNj"
      },
      "source": [
        "Se prueba la funcion `costFunction`"
      ]
    },
    {
      "cell_type": "code",
      "execution_count": 117,
      "metadata": {
        "colab": {
          "base_uri": "https://localhost:8080/"
        },
        "id": "j7Fe_xEZJVNj",
        "outputId": "831c9c6f-6370-469c-de52-eb349068817e"
      },
      "outputs": [
        {
          "output_type": "stream",
          "name": "stdout",
          "text": [
            "Costo en theta inicial (zeros): 0.693\n",
            "Costo esperado (aproximado): 0.693\n",
            "\n",
            "Gradiente en theta inicial (zeros):\n",
            "\t[0.4659, 0.4659, 3.3185]\n"
          ]
        }
      ],
      "source": [
        "X = np.concatenate([np.ones((X.shape[0], 1)), X], axis=1)\n",
        "initial_theta = np.zeros(X.shape[1])\n",
        "cost, grad = costFunction(initial_theta, X, y)\n",
        "\n",
        "print('Costo en theta inicial (zeros): {:.3f}'.format(cost))\n",
        "print('Costo esperado (aproximado): 0.693\\n')\n",
        "print('Gradiente en theta inicial (zeros):')\n",
        "print('\\t[{:.4f}, {:.4f}, {:.4f}]'.format(*grad))"
      ]
    },
    {
      "cell_type": "code",
      "execution_count": 118,
      "metadata": {
        "colab": {
          "base_uri": "https://localhost:8080/"
        },
        "id": "4Um8ITq2JVNj",
        "outputId": "57b14969-07b2-420c-b096-3a78a953251b"
      },
      "outputs": [
        {
          "output_type": "stream",
          "name": "stdout",
          "text": [
            "Costo en theta prueba: 0.556\n",
            "Costo esperado (aproximado): 0.218\n",
            "\n",
            "Gradiente en theta prueba:\n",
            "\t[-0.032, -0.032, -1.024]\n"
          ]
        }
      ],
      "source": [
        "# Calcula y muestra el costo y el gradiente con valores de theta diferentes a cero\n",
        "\n",
        "test_theta = np.array([-24, 0.2, 0.2])\n",
        "cost, grad = costFunction(test_theta, X, y)\n",
        "\n",
        "print('Costo en theta prueba: {:.3f}'.format(cost))\n",
        "print('Costo esperado (aproximado): 0.218\\n')\n",
        "print('Gradiente en theta prueba:')\n",
        "print('\\t[{:.3f}, {:.3f}, {:.3f}]'.format(*grad))\n"
      ]
    },
    {
      "cell_type": "markdown",
      "metadata": {
        "id": "7AeXffwpJVNj"
      },
      "source": [
        "#### 1.2.3 Parámetros de aprendizaje usando `scipy.optimize`\n",
        "\n",
        "En el codigo anterior se encontró los parámetros óptimos de un modelo de regresión lineal al implementar el descenso de gradiente. Se implemento una función de costo y se calculó su gradiente, utilizando el algoritmo del descenso por el gradiente.\n",
        "\n",
        "En lugar de realizar los pasos del descenso por el gradiente, se utilizará el [módulo `scipy.optimize`] (https://docs.scipy.org/doc/scipy/reference/optimize.html). SciPy es una biblioteca de computación numérica para `python`. Proporciona un módulo de optimización para la búsqueda y minimización de raíces. A partir de `scipy 1.0`, la función` scipy.optimize.minimize` es el método a utilizar para problemas de optimización (tanto restringidos como no restringidos).\n",
        "\n",
        "For logistic regression, you want to optimize the cost function $J(\\theta)$ with parameters $\\theta$.\n",
        "Concretely, you are going to use `optimize.minimize` to find the best parameters $\\theta$ for the logistic regression cost function, given a fixed dataset (of X and y values). You will pass to `optimize.minimize` the following inputs:\n",
        "\n",
        "Para la regresión logística, se desea optimizar la función de costo $J(\\theta)$ con los parámetros $\\theta$.\n",
        "Concretamente, se va a utilizar `optimize.minimize` para encontrar los mejores parámetros $\\theta$ para la función de costo de regresión logística, dado un dataset fijo (de valores X e y). Se pasara a `optimize.minimize` las siguientes entradas:\n",
        "\n",
        "- `costFunction`: Una función de costo que, cuando se le da el dataset de entrenamiento y un $\\theta$ particular, calcula el costo de regresión logística y el gradiente con respecto a $\\theta$ para el dataset(X, y). Es importante tener en cuenta que solo se pasa el nombre de la función sin el paréntesis. Esto indica que solo proporcionamos una referencia a esta función y no evaluamos el resultado de esta función.\n",
        "- `initial_theta`: Los valores iniciales de los parametros que se tratan de optimizar.\n",
        "- `(X, y)`: Estos son argumentos adicionales a la funcion de costo.\n",
        "- `jac`: Indicación si la función de costo devuelve el jacobiano (gradiente) junto con el valor de costo. (True)\n",
        "- `method`: Método / algoritmo de optimización a utilizar\n",
        "- `options`: Opciones adicionales que pueden ser específicas del método de optimización específico. Solo se indica al algoritmo el número máximo de iteraciones antes de que termine.\n",
        "\n",
        "Si se ha completado la `costFunction` correctamente,`optimize.minimize` convergerá en los parámetros de optimización correctos y devolverá los valores finales del costo y $\\theta$ en un objeto de clase.\n",
        "\n",
        "Al usar `optimize.minimize`, no se tuvo que escribir ningún bucle ni establecer una tasa de aprendizaje como se hizo para el descenso de gradientes. Todo esto se hace mediante `optimize.minimize`: solo se necesita proporcionar una función que calcule el costo y el gradiente.\n",
        "\n",
        "A continuación, se tiene el código para llamar a `optimize.minimize` con los argumentos correctos."
      ]
    },
    {
      "cell_type": "code",
      "execution_count": 119,
      "metadata": {
        "scrolled": true,
        "colab": {
          "base_uri": "https://localhost:8080/"
        },
        "id": "sB2xAu03JVNj",
        "outputId": "dbfadefa-4221-4881-f848-e2d25a134f43"
      },
      "outputs": [
        {
          "output_type": "stream",
          "name": "stdout",
          "text": [
            "Costo con un valor de theta encontrado por optimize.minimize: 0.527\n",
            "theta:\n",
            "\t[-0.029, -0.029, -0.207]\n"
          ]
        },
        {
          "output_type": "stream",
          "name": "stderr",
          "text": [
            "<ipython-input-119-716a9b91e1b2>:5: OptimizeWarning: Unknown solver options: maxiter\n",
            "  res = optimize.minimize(costFunction,\n",
            "<ipython-input-116-79ed6a535ed6>:4: RuntimeWarning: divide by zero encountered in log\n",
            "  J = (1 / m) * np.sum(-y.dot(np.log(h)) - (1 - y).dot(np.log(1 - h)))\n"
          ]
        }
      ],
      "source": [
        "from scipy import optimize\n",
        "\n",
        "options = {'maxiter': 1000}\n",
        "\n",
        "res = optimize.minimize(costFunction,\n",
        "                         initial_theta,\n",
        "                         (X, y),\n",
        "                         jac=True,\n",
        "                         method='TNC',\n",
        "                         options=options)\n",
        "\n",
        "cost = res.fun\n",
        "theta = res.x\n",
        "\n",
        "print('Costo con un valor de theta encontrado por optimize.minimize: {:.3f}'.format(cost))\n",
        "print('theta:')\n",
        "print('\\t[{:.3f}, {:.3f}, {:.3f}]'.format(*theta))"
      ]
    },
    {
      "cell_type": "markdown",
      "metadata": {
        "id": "nj6vynAtJVNk"
      },
      "source": [
        "<a id=\"section4\"></a>\n",
        "#### 1.2.4 Precision del modelo\n",
        "El modelo siempre predice la clase mayoritaria (0 = Caminar/Bici) debido al desbalance extremo (96.6% de los datos son clase 0).\n",
        "\n",
        "Como el 96.6% de los puntos ya son clase 0, al predecir siempre 0, el modelo \"acierta\" en el 96.6% de los casos."
      ]
    },
    {
      "cell_type": "code",
      "execution_count": 120,
      "metadata": {
        "id": "0xz73RAdJVNk",
        "colab": {
          "base_uri": "https://localhost:8080/"
        },
        "outputId": "634af75f-3a05-480a-ab15-dfe7e086b5b0"
      },
      "outputs": [
        {
          "output_type": "stream",
          "name": "stdout",
          "text": [
            "Precisión de entrenamiento: 96.59 %\n"
          ]
        }
      ],
      "source": [
        "def predict(theta, X):\n",
        "    m = X.shape[0]\n",
        "    p = np.zeros(m)\n",
        "    p = np.round(sigmoid(X.dot(theta.T)))\n",
        "    return p\n",
        "\n",
        "p = predict(theta, X)\n",
        "precision = np.mean(p == y) * 100\n",
        "print('Precisión de entrenamiento: {:.2f} %'.format(precision))"
      ]
    }
  ],
  "metadata": {
    "kernelspec": {
      "display_name": "Python 3",
      "language": "python",
      "name": "python3"
    },
    "language_info": {
      "codemirror_mode": {
        "name": "ipython",
        "version": 3
      },
      "file_extension": ".py",
      "mimetype": "text/x-python",
      "name": "python",
      "nbconvert_exporter": "python",
      "pygments_lexer": "ipython3",
      "version": "3.8.5"
    },
    "colab": {
      "provenance": []
    }
  },
  "nbformat": 4,
  "nbformat_minor": 0
}