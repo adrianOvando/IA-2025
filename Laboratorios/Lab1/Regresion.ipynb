{
  "nbformat": 4,
  "nbformat_minor": 0,
  "metadata": {
    "colab": {
      "provenance": []
    },
    "kernelspec": {
      "name": "python3",
      "display_name": "Python 3"
    },
    "language_info": {
      "name": "python"
    }
  },
  "cells": [
    {
      "cell_type": "code",
      "execution_count": null,
      "metadata": {
        "colab": {
          "base_uri": "https://localhost:8080/"
        },
        "id": "vVNW2z3HIFsB",
        "outputId": "1f6061a4-be94-4551-be2c-447dd6e02b0c"
      },
      "outputs": [
        {
          "output_type": "stream",
          "name": "stdout",
          "text": [
            "Drive already mounted at /content/drive; to attempt to forcibly remount, call drive.mount(\"/content/drive\", force_remount=True).\n",
            "LAB1: REGRESIÓN LINEAL CON DATASET REAL\n",
            "Dataset: House Prices - Advanced Regression Techniques\n",
            "Datos cargados: 1460 filas, 81 columnas\n",
            "Cumple requisitos: n=80>=10, m=1460>=1000\n"
          ]
        }
      ],
      "source": [
        "import torch\n",
        "from torch.autograd import Variable\n",
        "import pandas as pd\n",
        "import numpy as np\n",
        "\n",
        "from google.colab import drive\n",
        "drive.mount('/content/drive')\n",
        "\n",
        "print(\"LAB1: REGRESIÓN LINEAL CON DATASET REAL\")\n",
        "print(\"Dataset: House Prices - Advanced Regression Techniques\")\n",
        "\n",
        "# Cargar datos con pandas\n",
        "train_data = pd.read_csv('/content/drive/MyDrive/ia/Lab1/Dataset/house-prices-advanced-regression-techniques/train.csv')\n",
        "\n",
        "print(f\"Datos cargados: {train_data.shape[0]} filas, {train_data.shape[1]} columnas\")\n",
        "print(f\"Cumple requisitos: n={train_data.shape[1]-1}>=10, m={train_data.shape[0]}>=1000\")"
      ]
    },
    {
      "cell_type": "code",
      "source": [
        "X = train_data['GrLivArea'].values  # Característica: área de vivienda\n",
        "y = train_data['SalePrice'].values   # Target: precio\n",
        "\n",
        "# Limpiar valores faltantes\n",
        "mask = ~(pd.isna(X) | pd.isna(y))\n",
        "X = X[mask]\n",
        "y = y[mask]\n",
        "\n",
        "# Tomar una muestra para que sea más manejable\n",
        "# Pero seguimos cumpliendo m>=1000\n",
        "sample_size = 1000\n",
        "indices = np.random.choice(len(X), sample_size, replace=False)\n",
        "X_sample = X[indices]\n",
        "y_sample = y[indices]\n",
        "\n",
        "print(f\"  - Característica: GrLivArea (área de vivienda)\")\n",
        "print(f\"  - Muestras seleccionadas: {len(X_sample)}\")\n",
        "print(f\"  - Rango X: {X_sample.min():.0f} - {X_sample.max():.0f} sq ft\")\n",
        "print(f\"  - Rango y: ${y_sample.min():,.0f} - ${y_sample.max():,.0f}\")\n",
        "\n",
        "# Convertir a tensores\n",
        "x_data = Variable(torch.Tensor(X_sample.reshape(-1, 1)))\n",
        "y_data = Variable(torch.Tensor(y_sample.reshape(-1, 1)))\n",
        "\n",
        "print(f\" Tensores creados: X={x_data.shape}, y={y_data.shape}\")\n",
        "\n",
        "# Normalizar los datos\n",
        "x_data = (x_data - x_data.mean()) / x_data.std()\n",
        "y_data = (y_data - y_data.mean()) / y_data.std()\n",
        "\n",
        "print(f\"Datos normalizados: Media X={x_data.mean():.2f}, std X={x_data.std():.2f}\")\n",
        "print(f\"                Media y={y_data.mean():.2f}, std y={y_data.std():.2f}\")"
      ],
      "metadata": {
        "colab": {
          "base_uri": "https://localhost:8080/"
        },
        "id": "jb7FYuP3Ijrz",
        "outputId": "65d83feb-8102-4530-9fac-44a833692ded"
      },
      "execution_count": null,
      "outputs": [
        {
          "output_type": "stream",
          "name": "stdout",
          "text": [
            "  - Característica: GrLivArea (área de vivienda)\n",
            "  - Muestras seleccionadas: 1000\n",
            "  - Rango X: 438 - 5642 sq ft\n",
            "  - Rango y: $34,900 - $755,000\n",
            " Tensores creados: X=torch.Size([1000, 1]), y=torch.Size([1000, 1])\n",
            "Datos normalizados: Media X=0.00, std X=1.00\n",
            "                Media y=-0.00, std y=1.00\n"
          ]
        }
      ]
    },
    {
      "cell_type": "code",
      "source": [
        "class LinearRegression(torch.nn.Module):\n",
        "    def __init__(self):\n",
        "        super(LinearRegression, self).__init__()\n",
        "        self.linear = torch.nn.Linear(1, 1)\n",
        "\n",
        "    def forward(self, x):\n",
        "        y_pred = self.linear(x)\n",
        "        return y_pred\n",
        "\n",
        "model = LinearRegression()\n",
        "print(\"Modelo de regresión lineal creado\")"
      ],
      "metadata": {
        "colab": {
          "base_uri": "https://localhost:8080/"
        },
        "id": "vDbR042LIvx9",
        "outputId": "1da1678f-f7de-4b1a-95e0-8cdf0028cd44"
      },
      "execution_count": null,
      "outputs": [
        {
          "output_type": "stream",
          "name": "stdout",
          "text": [
            "Modelo de regresión lineal creado\n"
          ]
        }
      ]
    },
    {
      "cell_type": "code",
      "source": [
        "criterion = torch.nn.MSELoss() # size_average está obsoleto, se omite\n",
        "print(\"Función de pérdida MSE configurada\")"
      ],
      "metadata": {
        "colab": {
          "base_uri": "https://localhost:8080/"
        },
        "id": "spXvx8SXIwvp",
        "outputId": "da96c4b7-c317-4859-d13b-ed1d51054a18"
      },
      "execution_count": null,
      "outputs": [
        {
          "output_type": "stream",
          "name": "stdout",
          "text": [
            "Función de pérdida MSE configurada\n"
          ]
        }
      ]
    },
    {
      "cell_type": "code",
      "source": [
        "optimizer = torch.optim.Adam(model.parameters(), lr=0.01)\n",
        "print(\"Optimizador SGD configurado (lr=0.01)\")"
      ],
      "metadata": {
        "colab": {
          "base_uri": "https://localhost:8080/"
        },
        "id": "92RMjM0sI91c",
        "outputId": "8ba445ea-6afd-4799-9d52-e2e775943665"
      },
      "execution_count": null,
      "outputs": [
        {
          "output_type": "stream",
          "name": "stdout",
          "text": [
            "Optimizador SGD configurado (lr=0.01)\n"
          ]
        }
      ]
    },
    {
      "cell_type": "code",
      "source": [
        "print(\"\\nEntrenando modelo...\")\n",
        "for epoch in range(100):  # Aumenté el número de épocas\n",
        "    model.train()\n",
        "    optimizer.zero_grad()\n",
        "\n",
        "    # Forward pass\n",
        "    y_pred = model(x_data)\n",
        "\n",
        "    # Compute Loss\n",
        "    loss = criterion(y_pred, y_data)\n",
        "\n",
        "    # Backward pass\n",
        "    loss.backward()\n",
        "    optimizer.step()\n",
        "\n",
        "    if epoch % 10 == 0:\n",
        "        print(f\"Epoch {epoch}: Loss = {loss.item():.4f}\")\n",
        "\n",
        "print(\"Entrenamiento completado\")"
      ],
      "metadata": {
        "colab": {
          "base_uri": "https://localhost:8080/"
        },
        "id": "jJRiIlpqJDjH",
        "outputId": "1cd9110d-80c8-4788-a94d-ce6a33c87279"
      },
      "execution_count": null,
      "outputs": [
        {
          "output_type": "stream",
          "name": "stdout",
          "text": [
            "\n",
            "Entrenando modelo...\n",
            "Epoch 0: Loss = 2.5200\n",
            "Epoch 10: Loss = 2.2064\n",
            "Epoch 20: Loss = 1.9372\n",
            "Epoch 30: Loss = 1.7089\n",
            "Epoch 40: Loss = 1.5130\n",
            "Epoch 50: Loss = 1.3423\n",
            "Epoch 60: Loss = 1.1939\n",
            "Epoch 70: Loss = 1.0666\n",
            "Epoch 80: Loss = 0.9585\n",
            "Epoch 90: Loss = 0.8675\n",
            "Entrenamiento completado\n"
          ]
        }
      ]
    },
    {
      "cell_type": "code",
      "source": [
        "new_x = Variable(torch.Tensor([[2000.0]]))  # Casa de 2000 pies cuadrados\n",
        "y_pred = model(new_x)\n",
        "print(f\"\\n✓ PREDICCIÓN:\")\n",
        "print(f\"  - Para una casa de 2000 sq ft\")\n",
        "print(f\"  - Precio predicho: ${y_pred.data[0][0]:,.2f}\")\n",
        "\n",
        "# Hacer algunas predicciones adicionales\n",
        "test_areas = [1000, 1500, 2500, 3000]\n",
        "print(f\"\\n✓ PREDICCIONES ADICIONALES:\")\n",
        "for area in test_areas:\n",
        "    test_x = Variable(torch.Tensor([[float(area)]]))\n",
        "    pred = model(test_x)\n",
        "    print(f\"  - Casa de {area} sq ft: ${pred.data[0][0]:,.2f}\")"
      ],
      "metadata": {
        "colab": {
          "base_uri": "https://localhost:8080/"
        },
        "id": "ReDERnIIJWLT",
        "outputId": "78d17aa9-aa97-4af9-b03b-32e15dbc6ec3"
      },
      "execution_count": null,
      "outputs": [
        {
          "output_type": "stream",
          "name": "stdout",
          "text": [
            "\n",
            "✓ PREDICCIÓN:\n",
            "  - Para una casa de 2000 sq ft\n",
            "  - Precio predicho: $329.99\n",
            "\n",
            "✓ PREDICCIONES ADICIONALES:\n",
            "  - Casa de 1000 sq ft: $164.99\n",
            "  - Casa de 1500 sq ft: $247.49\n",
            "  - Casa de 2500 sq ft: $412.49\n",
            "  - Casa de 3000 sq ft: $494.99\n"
          ]
        }
      ]
    },
    {
      "cell_type": "code",
      "source": [
        "import torch\n",
        "import numpy as np\n",
        "import matplotlib.pyplot as plt\n",
        "from sklearn.metrics import r2_score, mean_absolute_error\n",
        "\n",
        "# 1. Evaluación del modelo (corregido y ampliado)\n",
        "model.eval()\n",
        "with torch.no_grad():\n",
        "    train_pred = model(x_data)\n",
        "    train_loss = criterion(train_pred, y_data)\n",
        "\n",
        "    # Convertir a numpy para métricas\n",
        "    y_true = y_data.numpy()\n",
        "    y_pred = train_pred.numpy()\n",
        "\n",
        "    # Métricas adicionales\n",
        "    r2 = r2_score(y_true, y_pred)\n",
        "    mae = mean_absolute_error(y_true, y_pred)\n",
        "    rmse = np.sqrt(train_loss.item())\n",
        "\n",
        "# 2. Visualización de resultados (mejorada)\n",
        "plt.figure(figsize=(15, 5))\n",
        "\n",
        "# Gráfico 1: Pérdida durante entrenamiento (corregido)\n",
        "plt.subplot(1, 3, 1)\n",
        "plt.plot(loss_history, 'b-', label='Pérdida (MSE)')  # Asumiendo que guardaste las pérdidas en loss_history\n",
        "plt.title('Evolución del Error durante Entrenamiento')\n",
        "plt.xlabel('Época')\n",
        "plt.ylabel('Error')\n",
        "plt.grid(True)\n",
        "plt.legend()\n",
        "\n",
        "# 3. Métricas mejoradas (con interpretación)\n",
        "print(f\"\\n{'='*60}\")\n",
        "print(\"📊 MÉTRICAS FINALES DEL MODELO\")\n",
        "print(f\"{'='*60}\")\n",
        "print(f\"  - Error Cuadrático Medio (MSE): {train_loss.item():.4f}\")\n",
        "print(f\"  - Raíz del Error Cuadrático (RMSE): {rmse:.4f}\")\n",
        "print(f\"  - Error Absoluto Medio (MAE): {mae:.4f}\")\n",
        "print(f\"  - Coeficiente R²: {r2:.4f} ({r2*100:.1f}% de varianza explicada)\")\n",
        "print(\"\\n🔍 Interpretación de R²:\")\n",
        "print(f\"   - El modelo explica el {r2*100:.1f}% de la variabilidad en los precios\")\n",
        "print(f\"   - Un R² bajo (<50%) sugiere que el área por sí sola no explica bien los precios\")\n",
        "print(f\"   - Considera añadir más características al modelo\")\n",
        "\n",
        "# 4. Parámetros del modelo con más contexto\n",
        "print(f\"\\n{'='*60}\")\n",
        "print(\"⚙️ PARÁMETROS DEL MODELO\")\n",
        "print(f\"{'='*60}\")\n",
        "print(f\"  - Peso (pendiente): {weight:.6f}\")\n",
        "print(f\"  - Sesgo (intercepto): {bias:.6f}\")\n",
        "print(f\"\\n📝 Ecuación del modelo:\")\n",
        "print(f\"   Precio_normalizado = {weight:.6f} * Área_normalizada + {bias:.6f}\")\n",
        "print(\"\\n💡 Nota: Los parámetros están en escala normalizada. Para interpretación real:\")\n",
        "print(\"   - Peso: Efecto de 1 unidad de cambio en el área sobre el precio\")\n",
        "print(\"   - Sesgo: Precio base cuando el área es cero (en escala normalizada)\")\n",
        "\n",
        "# 5. Mensaje final mejorado\n",
        "print(f\"\\n{'='*60}\")\n",
        "print(\"✅ LAB1 COMPLETADO - REGRESIÓN LINEAL\")\n",
        "print(f\"{'='*60}\")\n",
        "print(f\"🔹 Dataset: House Prices (Kaggle)\")\n",
        "print(f\"🔹 Muestras usadas: {len(X_sample)} (de {len(X)} disponibles)\")\n",
        "print(f\"🔹 Característica usada: Área de vivienda (GrLivArea)\")\n",
        "print(f\"🔹 Mejor pérdida alcanzada: {min(loss_history):.4f}\")\n",
        "print(f\"🔹 Optimizador usado: Adam (lr=0.01)\")\n",
        "print(f\"{'='*60}\")"
      ],
      "metadata": {
        "colab": {
          "base_uri": "https://localhost:8080/",
          "height": 1000
        },
        "id": "mJCmYHj3JcXg",
        "outputId": "ab021c6a-ffa3-4046-fe00-8ec813d60637"
      },
      "execution_count": null,
      "outputs": [
        {
          "output_type": "stream",
          "name": "stdout",
          "text": [
            "\n",
            "============================================================\n",
            "📊 MÉTRICAS FINALES DEL MODELO\n",
            "============================================================\n",
            "  - Error Cuadrático Medio (MSE): 0.7915\n",
            "  - Raíz del Error Cuadrático (RMSE): 0.8897\n",
            "  - Error Absoluto Medio (MAE): 0.6224\n",
            "  - Coeficiente R²: 0.2077 (20.8% de varianza explicada)\n",
            "\n",
            "🔍 Interpretación de R²:\n",
            "   - El modelo explica el 20.8% de la variabilidad en los precios\n",
            "   - Un R² bajo (<50%) sugiere que el área por sí sola no explica bien los precios\n",
            "   - Considera añadir más características al modelo\n",
            "\n",
            "============================================================\n",
            "⚙️ PARÁMETROS DEL MODELO\n",
            "============================================================\n",
            "  - Peso (pendiente): 0.164996\n",
            "  - Sesgo (intercepto): -0.001204\n",
            "\n",
            "📝 Ecuación del modelo:\n",
            "   Precio_normalizado = 0.164996 * Área_normalizada + -0.001204\n",
            "\n",
            "💡 Nota: Los parámetros están en escala normalizada. Para interpretación real:\n",
            "   - Peso: Efecto de 1 unidad de cambio en el área sobre el precio\n",
            "   - Sesgo: Precio base cuando el área es cero (en escala normalizada)\n",
            "\n",
            "============================================================\n",
            "✅ LAB1 COMPLETADO - REGRESIÓN LINEAL\n",
            "============================================================\n",
            "🔹 Dataset: House Prices (Kaggle)\n",
            "🔹 Muestras usadas: 1000 (de 1460 disponibles)\n",
            "🔹 Característica usada: Área de vivienda (GrLivArea)\n",
            "🔹 Mejor pérdida alcanzada: 0.5370\n",
            "🔹 Optimizador usado: Adam (lr=0.01)\n",
            "============================================================\n"
          ]
        },
        {
          "output_type": "display_data",
          "data": {
            "text/plain": [
              "<Figure size 1500x500 with 1 Axes>"
            ],
            "image/png": "[encoded data removed]"
          },
          "metadata": {}
        }
      ]
    }
  ]
}