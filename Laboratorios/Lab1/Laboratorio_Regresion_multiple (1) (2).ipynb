{
  "cells": [
    {
      "cell_type": "markdown",
      "metadata": {
        "id": "tfwOfkjclHQx"
      },
      "source": [
        "# Ejercicio de programación Regresión Lineal Multiple"
      ]
    },
    {
      "cell_type": "code",
      "execution_count": 105,
      "metadata": {
        "id": "f0WGMMljlHQz"
      },
      "outputs": [],
      "source": [
        "# utilizado para manejos de directorios y rutas\n",
        "import os\n",
        "\n",
        "# Computacion vectorial y cientifica para python\n",
        "import numpy as np\n",
        "import pandas as pd\n",
        "# Librerias para graficación (trazado de gráficos)\n",
        "from matplotlib import pyplot\n",
        "from mpl_toolkits.mplot3d import Axes3D  # Necesario para graficar superficies 3D\n",
        "\n",
        "# llama a matplotlib a embeber graficas dentro de los cuadernillos\n",
        "%matplotlib inline"
      ]
    },
    {
      "cell_type": "code",
      "source": [
        "from google.colab import drive\n",
        "drive.mount(\"/content/gdrive\")"
      ],
      "metadata": {
        "id": "LhERtghFlVGr",
        "colab": {
          "base_uri": "https://localhost:8080/"
        },
        "outputId": "64974afa-f9fb-4f49-d30f-b82306d5de26"
      },
      "execution_count": 106,
      "outputs": [
        {
          "output_type": "stream",
          "name": "stdout",
          "text": [
            "Drive already mounted at /content/gdrive; to attempt to forcibly remount, call drive.mount(\"/content/gdrive\", force_remount=True).\n"
          ]
        }
      ]
    },
    {
      "cell_type": "markdown",
      "metadata": {
        "id": "G6-ykOwelHQ0"
      },
      "source": [
        "## 2 Regresión lineal con multiples variables\n",
        "\n",
        "Se implementa la regresion lineal multivariable para predecir el precio de las casas. El archivo `Datasets/ex1data2.txt` contiene un conjunto de entrenamiento de precios de casas en Portland, Oregon. La primera columna es el tamaño de la casa en metros cuadrados, la segunda columna es el numero de cuartos, y la tercera columna es el precio de la casa.\n",
        "\n",
        "<a id=\"section4\"></a>\n",
        "### 2.1 Normalización de caracteristicas\n",
        "\n",
        "Al visualizar los datos se puede observar que las caracteristicas tienen diferentes magnitudes, por lo cual se debe transformar cada valor en una escala de valores similares, esto con el fin de que el descenso por el gradiente pueda converger mas rapidamente."
      ]
    },
    {
      "cell_type": "code",
      "execution_count": 107,
      "metadata": {
        "id": "6BP5grkxlHQ0",
        "colab": {
          "base_uri": "https://localhost:8080/"
        },
        "outputId": "7d7c303b-ef64-4cc9-f230-c8ce0dbbe608"
      },
      "outputs": [
        {
          "output_type": "stream",
          "name": "stdout",
          "text": [
            "Número total de muestras: 6497\n",
            "------------------------------------------------------------------------------------------------------------------------------------------------\n",
            "        9.50        0.56        0.33        2.40        0.09       35.00       67.00        1.00        3.28        0.73       11.80        0.00\n",
            "        6.60        0.24        0.28        1.80        0.03       39.00      132.00        0.99        3.34        0.46       11.40        1.00\n",
            "        9.40        0.59        0.14        2.00        0.08       25.00       48.00        1.00        3.14        0.56        9.70        0.00\n",
            "        6.10        0.32        0.33       10.70        0.04       27.00       98.00        1.00        3.34        0.52       10.20        1.00\n",
            "        7.00        0.36        0.35        2.50        0.05       67.00      161.00        0.99        3.05        0.56       11.10        1.00\n",
            "        7.50        0.21        0.68       10.90        0.04       38.00      133.00        1.00        3.00        0.36        8.70        1.00\n",
            "        6.00        0.28        0.24       17.80        0.05       42.00      111.00        1.00        3.10        0.45        8.90        1.00\n",
            "        6.80        0.22        0.29        8.90        0.05       82.00      188.00        1.00        3.30        0.44       10.30        1.00\n",
            "        8.30        0.27        0.39        2.40        0.06       16.00      107.00        1.00        3.28        0.59       10.30        1.00\n",
            "        6.40        0.22        0.38        9.10        0.04       35.00      127.00        0.99        2.97        0.30       11.00        1.00\n"
          ]
        },
        {
          "output_type": "stream",
          "name": "stderr",
          "text": [
            "<ipython-input-107-1e932ca45550>:17: FutureWarning: DataFrame.applymap has been deprecated. Use DataFrame.map instead.\n",
            "  data = data.applymap(lambda x: x.strip() if isinstance(x, str) else x)\n"
          ]
        }
      ],
      "source": [
        "import pandas as pd\n",
        "import numpy as np\n",
        "\n",
        "# Cargar datos\n",
        "data = pd.read_csv('/content/gdrive/MyDrive/IA/LABORATORIOS/1ERLAB/calidad_de_vino.csv', delimiter=',')\n",
        "\n",
        "# Eliminar espacios en los nombres de las columnas\n",
        "data.columns = data.columns.str.strip()\n",
        "\n",
        "# Eliminar columnas irrelevantes\n",
        "data = data.drop(columns=['botella_id', 'calidad'])\n",
        "\n",
        "# Convertir la columna 'color' a valores numéricos (rojo = 0, blanco = 1)\n",
        "data['color'] = data['color'].str.strip().map({'rojo': 0, 'blanco': 1})\n",
        "\n",
        "# Eliminar espacios en los valores del DataFrame\n",
        "data = data.applymap(lambda x: x.strip() if isinstance(x, str) else x)\n",
        "\n",
        "# Convertir todas las columnas a float\n",
        "data = data.astype(float)\n",
        "\n",
        "# Reemplazar NaN por la media de cada columna\n",
        "data.fillna(data.mean(), inplace=True)\n",
        "\n",
        "# Convertir a numpy arrays\n",
        "X = data.values\n",
        "y = pd.read_csv('/content/gdrive/MyDrive/IA/LABORATORIOS/1ERLAB/calidad_de_vino.csv')['calidad'].values\n",
        "\n",
        "# Imprimir los primeros 10 registros correctamente\n",
        "print(\"Número total de muestras:\", X.shape[0])\n",
        "print('-' * (12 * X.shape[1]))\n",
        "\n",
        "for i in range(10):\n",
        "    print(''.join(f'{X[i, j]:12.2f}' for j in range(X.shape[1])))\n"
      ]
    },
    {
      "cell_type": "markdown",
      "metadata": {
        "id": "7iU_3mwZlHQ1"
      },
      "source": [
        "La desviación estándar es una forma de medir cuánta variación hay en el rango de valores de una característica en particular (la mayoría de los puntos caeran en un rango de ± 2 en relación a la desviaciones estándar de la media); esta es una alternativa a tomar el rango de valores (max-min). En `numpy`, se puede usar la función `std` para calcular la desviacion estandar.\n",
        "\n",
        "Por ejemplo, la caracteristica`X[:, 0]` contiene todos los valores de $x_1$ (tamaño de las casas) en el conjunto de entrenamiento, entonces `np.std(X[:, 0])` calcula la desviacion estandar de los tamaños de las casas.\n",
        "En el momento en que se llama a la función `featureNormalize`, la columna adicional de unos correspondiente a $ x_0 = 1 $ aún no se ha agregado a $ X $.\n",
        "\n",
        "<div class=\"alert alert-block alert-warning\">\n",
        "**Notas para la implementación:** Cuando se normalize una caracteristica, es importante almacenar los valores usados para la normalización - el valor de la media y el valor de la desviación estandar usado para los calculos. Despues de aprender los parametros del modelo, se deseara predecir los precios de casas que no se han visto antes. Dado un nuevo valor de x (area del living room y el numero de dormitorios), primero se debe normalizar x usando la media y la desviacion estandar que se empleo anteriormente en el conjunto de entrenamiento para entrenar el modelo.\n",
        "</div>\n",
        "<a id=\"featureNormalize\"></a>"
      ]
    },
    {
      "cell_type": "markdown",
      "source": [],
      "metadata": {
        "id": "jxv0AhQdymns"
      }
    },
    {
      "cell_type": "code",
      "source": [
        "data.info()"
      ],
      "metadata": {
        "colab": {
          "base_uri": "https://localhost:8080/"
        },
        "id": "tVlwWvJjrD9G",
        "outputId": "28af6fd2-2da5-4f21-d756-61b63cb23627"
      },
      "execution_count": 108,
      "outputs": [
        {
          "output_type": "stream",
          "name": "stdout",
          "text": [
            "<class 'pandas.core.frame.DataFrame'>\n",
            "RangeIndex: 6497 entries, 0 to 6496\n",
            "Data columns (total 12 columns):\n",
            " #   Column                   Non-Null Count  Dtype  \n",
            "---  ------                   --------------  -----  \n",
            " 0   acidez fija              6497 non-null   float64\n",
            " 1   acidez volatil           6497 non-null   float64\n",
            " 2   acido citrico            6497 non-null   float64\n",
            " 3   azucar residual          6497 non-null   float64\n",
            " 4   cloruros                 6497 non-null   float64\n",
            " 5   dioxido de azufre libre  6497 non-null   float64\n",
            " 6   dioxido de azufre total  6497 non-null   float64\n",
            " 7   densidad                 6497 non-null   float64\n",
            " 8   pH                       6497 non-null   float64\n",
            " 9   sulfatos                 6497 non-null   float64\n",
            " 10  alcohol                  6497 non-null   float64\n",
            " 11  color                    6497 non-null   float64\n",
            "dtypes: float64(12)\n",
            "memory usage: 609.2 KB\n"
          ]
        }
      ]
    },
    {
      "cell_type": "code",
      "source": [
        "data.info()"
      ],
      "metadata": {
        "colab": {
          "base_uri": "https://localhost:8080/"
        },
        "id": "ZuCySCIuqqMA",
        "outputId": "261e8968-7e20-4361-eb8a-f35b10956d74"
      },
      "execution_count": 109,
      "outputs": [
        {
          "output_type": "stream",
          "name": "stdout",
          "text": [
            "<class 'pandas.core.frame.DataFrame'>\n",
            "RangeIndex: 6497 entries, 0 to 6496\n",
            "Data columns (total 12 columns):\n",
            " #   Column                   Non-Null Count  Dtype  \n",
            "---  ------                   --------------  -----  \n",
            " 0   acidez fija              6497 non-null   float64\n",
            " 1   acidez volatil           6497 non-null   float64\n",
            " 2   acido citrico            6497 non-null   float64\n",
            " 3   azucar residual          6497 non-null   float64\n",
            " 4   cloruros                 6497 non-null   float64\n",
            " 5   dioxido de azufre libre  6497 non-null   float64\n",
            " 6   dioxido de azufre total  6497 non-null   float64\n",
            " 7   densidad                 6497 non-null   float64\n",
            " 8   pH                       6497 non-null   float64\n",
            " 9   sulfatos                 6497 non-null   float64\n",
            " 10  alcohol                  6497 non-null   float64\n",
            " 11  color                    6497 non-null   float64\n",
            "dtypes: float64(12)\n",
            "memory usage: 609.2 KB\n"
          ]
        }
      ]
    },
    {
      "cell_type": "code",
      "source": [
        "data.values"
      ],
      "metadata": {
        "colab": {
          "base_uri": "https://localhost:8080/"
        },
        "id": "w-aRKVxZrWCv",
        "outputId": "5907867d-e950-4fb9-d147-5e7dda906094"
      },
      "execution_count": 110,
      "outputs": [
        {
          "output_type": "execute_result",
          "data": {
            "text/plain": [
              "array([[ 9.5 ,  0.56,  0.33, ...,  0.73, 11.8 ,  0.  ],\n",
              "       [ 6.6 ,  0.24,  0.28, ...,  0.46, 11.4 ,  1.  ],\n",
              "       [ 9.4 ,  0.59,  0.14, ...,  0.56,  9.7 ,  0.  ],\n",
              "       ...,\n",
              "       [ 8.2 ,  0.32,  0.42, ...,  0.55, 12.3 ,  0.  ],\n",
              "       [ 7.7 ,  0.34,  0.28, ...,  0.29,  9.2 ,  1.  ],\n",
              "       [ 7.4 ,  0.21,  0.8 , ...,  0.48,  9.  ,  1.  ]])"
            ]
          },
          "metadata": {},
          "execution_count": 110
        }
      ]
    },
    {
      "cell_type": "code",
      "execution_count": 111,
      "metadata": {
        "id": "7xFD8H3WlHQ1"
      },
      "outputs": [],
      "source": [
        "def  featureNormalize(X):\n",
        "\n",
        "    X_norm = X.copy()\n",
        "    mu = np.zeros(X.shape[1])\n",
        "    sigma = np.zeros(X.shape[1])\n",
        "\n",
        "    mu = np.mean(X, axis = 0)\n",
        "    sigma = np.std(X, axis = 0)\n",
        "    X_norm = (X - mu) / sigma\n",
        "\n",
        "    return X_norm, mu, sigma"
      ]
    },
    {
      "cell_type": "code",
      "execution_count": 112,
      "metadata": {
        "id": "ipL_QsTZlHQ2",
        "colab": {
          "base_uri": "https://localhost:8080/"
        },
        "outputId": "d3bd7f65-c1ce-415b-cff0-3652500fc0e0"
      },
      "outputs": [
        {
          "output_type": "stream",
          "name": "stdout",
          "text": [
            "[[ 9.5   0.56  0.33 ...  0.73 11.8   0.  ]\n",
            " [ 6.6   0.24  0.28 ...  0.46 11.4   1.  ]\n",
            " [ 9.4   0.59  0.14 ...  0.56  9.7   0.  ]\n",
            " ...\n",
            " [ 8.2   0.32  0.42 ...  0.55 12.3   0.  ]\n",
            " [ 7.7   0.34  0.28 ...  0.29  9.2   1.  ]\n",
            " [ 7.4   0.21  0.8  ...  0.48  9.    1.  ]]\n",
            "Media calculada: [7.21530706e+00 3.39666000e-01 3.18633215e-01 5.44323534e+00\n",
            " 5.60338618e-02 3.05253194e+01 1.15744574e+02 9.94696634e-01\n",
            " 3.21850085e+00 5.31268278e-01 1.04918008e+01 7.53886409e-01]\n",
            "Desviación estandar calculada: [1.29633398e+00 1.64623803e-01 1.45306681e-01 4.75743758e+00\n",
            " 3.50309051e-02 1.77480338e+01 5.65175045e+01 2.99844222e-03\n",
            " 1.60774828e-01 1.48794421e-01 1.19261996e+00 4.30745506e-01]\n",
            "[[ 1.76242617e+00  1.33840912e+00  7.82261668e-02 ...  1.33561272e+00\n",
            "   1.09691202e+00 -1.75018984e+00]\n",
            " [-4.74651651e-01 -6.05416699e-01 -2.65873634e-01 ... -4.78971436e-01\n",
            "   7.61515992e-01  5.71366589e-01]\n",
            " [ 1.68528556e+00  1.52064279e+00 -1.22935308e+00 ...  1.93096771e-01\n",
            "  -6.63917141e-01 -1.75018984e+00]\n",
            " ...\n",
            " [ 7.59598181e-01 -1.19460244e-01  6.97605808e-01 ...  1.25889951e-01\n",
            "   1.51615706e+00 -1.75018984e+00]\n",
            " [ 3.73895109e-01  2.02887007e-03 -2.65873634e-01 ... -1.62148739e+00\n",
            "  -1.08316218e+00  5.71366589e-01]\n",
            " [ 1.42473265e-01 -7.87650370e-01  3.31276430e+00 ... -3.44557795e-01\n",
            "  -1.25086020e+00  5.71366589e-01]]\n"
          ]
        }
      ],
      "source": [
        "# llama featureNormalize con los datos cargados\n",
        "X_norm, mu, sigma = featureNormalize(X)\n",
        "\n",
        "print(X)\n",
        "print('Media calculada:', mu)\n",
        "print('Desviación estandar calculada:', sigma)\n",
        "print(X_norm)"
      ]
    },
    {
      "cell_type": "markdown",
      "metadata": {
        "id": "it9bMYuLlHQ2"
      },
      "source": [
        "Despues de `featureNormalize` la funcion es provada, se añade el temino de interseccion a `X_norm`:"
      ]
    },
    {
      "cell_type": "code",
      "execution_count": 113,
      "metadata": {
        "id": "nNaGVxgolHQ2"
      },
      "outputs": [],
      "source": [
        "X = np.concatenate([ X_norm], axis=1)"
      ]
    },
    {
      "cell_type": "code",
      "execution_count": 114,
      "metadata": {
        "id": "nbUVohnhlHQ3",
        "colab": {
          "base_uri": "https://localhost:8080/"
        },
        "outputId": "903f63bd-999c-4df1-eac6-66c0f19bfa21"
      },
      "outputs": [
        {
          "output_type": "stream",
          "name": "stdout",
          "text": [
            "[[ 1.76242617e+00  1.33840912e+00  7.82261668e-02 ...  1.33561272e+00\n",
            "   1.09691202e+00 -1.75018984e+00]\n",
            " [-4.74651651e-01 -6.05416699e-01 -2.65873634e-01 ... -4.78971436e-01\n",
            "   7.61515992e-01  5.71366589e-01]\n",
            " [ 1.68528556e+00  1.52064279e+00 -1.22935308e+00 ...  1.93096771e-01\n",
            "  -6.63917141e-01 -1.75018984e+00]\n",
            " ...\n",
            " [ 7.59598181e-01 -1.19460244e-01  6.97605808e-01 ...  1.25889951e-01\n",
            "   1.51615706e+00 -1.75018984e+00]\n",
            " [ 3.73895109e-01  2.02887007e-03 -2.65873634e-01 ... -1.62148739e+00\n",
            "  -1.08316218e+00  5.71366589e-01]\n",
            " [ 1.42473265e-01 -7.87650370e-01  3.31276430e+00 ... -3.44557795e-01\n",
            "  -1.25086020e+00  5.71366589e-01]]\n"
          ]
        }
      ],
      "source": [
        "print(X)"
      ]
    },
    {
      "cell_type": "markdown",
      "metadata": {
        "id": "xzLiIE6NlHQ3"
      },
      "source": [
        "<a id=\"section5\"></a>\n",
        "### 2.2 Descenso por el gradiente\n",
        "\n",
        "En el ejemplo anterior se implemento el descenso por el gradiente para un problema de regresion univariable. La unica diferencia es que ahora existe una caracteristica adicional en la matriz $X$. La función de hipótesis y la regla de actualización del descenso del gradiente por lotes permanecen sin cambios.\n",
        "\n",
        "La implementacion de las funciones `computeCostMulti` y `gradientDescentMulti` son similares a la funcion de costo y función de descenso por el gradiente de la regresión lineal multiple es similar al de la regresion lineal multivariable. Es importante garantizar que el codigo soporte cualquier numero de caracteristicas y esten bien vectorizadas.\n",
        "\n",
        "Se puede utilizar `shape`, propiedad de los arrays `numpy`, para identificar cuantas caracteristicas estan consideradas en el dataset.\n",
        "\n",
        "<div class=\"alert alert-block alert-warning\">\n",
        "**Nota de implementación:** En el caso de multivariables, la función de costo puede se escrita considerando la forma vectorizada de la siguiente manera:\n",
        "\n",
        "$$ J(\\theta) = \\frac{1}{2m}(X\\theta - \\vec{y})^T(X\\theta - \\vec{y}) $$\n",
        "\n",
        "donde:\n",
        "\n",
        "$$ X = \\begin{pmatrix}\n",
        "- (x^{(1)})^T - \\\\\n",
        "- (x^{(2)})^T - \\\\\n",
        "\\vdots \\\\\n",
        "- (x^{(m)})^T - \\\\ \\\\\n",
        "\\end{pmatrix} \\qquad \\mathbf{y} = \\begin{bmatrix} y^{(1)} \\\\ y^{(2)} \\\\ \\vdots \\\\ y^{(m)} \\\\\\end{bmatrix}$$\n",
        "\n",
        "La version vectorizada es eficiente cuando se trabaja con herramientas de calculo numericos computacional como `numpy`.\n",
        "</div>\n",
        "\n",
        "<a id=\"computeCostMulti\"></a>"
      ]
    },
    {
      "cell_type": "code",
      "execution_count": 115,
      "metadata": {
        "id": "EQCMN7KqlHQ3"
      },
      "outputs": [],
      "source": [
        "def computeCostMulti(X, y, theta):\n",
        "    # Inicializa algunos valores utiles\n",
        "    m = y.shape[0] # numero de ejemplos de entrenamiento\n",
        "\n",
        "    J = 0\n",
        "\n",
        "    # h = np.dot(X, theta)\n",
        "\n",
        "    J = (1/(2 * m)) * np.sum(np.square(np.dot(X, theta) - y))\n",
        "\n",
        "    return J\n"
      ]
    },
    {
      "cell_type": "code",
      "execution_count": 116,
      "metadata": {
        "id": "Vdy_aQUklHQ4"
      },
      "outputs": [],
      "source": [
        "def gradientDescentMulti(X, y, theta, alpha, num_iters):\n",
        "\n",
        "    # Inicializa algunos valores\n",
        "    m = y.shape[0] # numero de ejemplos de entrenamiento\n",
        "\n",
        "    # realiza una copia de theta, el cual será acutalizada por el descenso por el gradiente\n",
        "\n",
        "    theta = theta.copy()\n",
        "\n",
        "    J_history = []\n",
        "\n",
        "    for i in range(num_iters):\n",
        "        theta = theta - (alpha / m) * (np.dot(X, theta) - y).dot(X)\n",
        "        J_history.append(computeCostMulti(X, y, theta))\n",
        "\n",
        "    return theta, J_history"
      ]
    },
    {
      "cell_type": "markdown",
      "metadata": {
        "id": "a8b_GwZslHQ4"
      },
      "source": [
        "#### 3.2.1 Seleccionando coheficientes de aprendizaje\n"
      ]
    },
    {
      "cell_type": "code",
      "execution_count": 117,
      "metadata": {
        "id": "sId0DiH9lHQ4",
        "colab": {
          "base_uri": "https://localhost:8080/",
          "height": 541
        },
        "outputId": "49374e59-22e0-47d7-c5d0-cd9d49e1f728"
      },
      "outputs": [
        {
          "output_type": "display_data",
          "data": {
            "text/plain": [
              "<Figure size 640x480 with 1 Axes>"
            ],
            "image/png": "[encoded data removed]"
          },
          "metadata": {}
        },
        {
          "output_type": "stream",
          "name": "stdout",
          "text": [
            "Theta calculado por el descenso por el gradiente: [ 0.46972961  0.00839217 -0.04127776 -0.00180964  0.03239357 -0.00503712\n",
            "  0.01613644 -0.01592484 -0.02446221  0.00750035  0.01637121  0.05604489\n",
            " -0.01614876]\n",
            "La calidad predicha para un vino con estas características es: 8.52\n"
          ]
        }
      ],
      "source": [
        "import numpy as np\n",
        "import matplotlib.pyplot as plt\n",
        "\n",
        "# Parámetros del descenso por el gradiente\n",
        "alpha = 0.003  # Reducimos la tasa de aprendizaje\n",
        "num_iters = 6000  # Reducimos el número de iteraciones\n",
        "\n",
        "# Normalizar los datos de entrenamiento (X)\n",
        "mu = np.mean(X, axis=0)\n",
        "sigma = np.std(X, axis=0)\n",
        "\n",
        "# Evitar divisiones por cero\n",
        "sigma[sigma == 0] = 1e-10\n",
        "\n",
        "# Normalizar X\n",
        "X_normalized = (X - mu) / sigma\n",
        "\n",
        "# Añadir una columna de unos a X_normalized para el término de intersección\n",
        "X_normalized = np.hstack((np.ones((X.shape[0], 1)), X_normalized))\n",
        "\n",
        "# Normalizar y con Min-Max Scaling\n",
        "y_min, y_max = np.min(y), np.max(y)\n",
        "y_normalized = (y - y_min) / (y_max - y_min)\n",
        "\n",
        "# Inicializar theta en ceros\n",
        "theta = np.zeros(X_normalized.shape[1])\n",
        "\n",
        "# Función de descenso por el gradiente\n",
        "def gradientDescentMulti(X, y, theta, alpha, num_iters):\n",
        "    m = len(y)\n",
        "    J_history = []\n",
        "    for i in range(num_iters):\n",
        "        predictions = X.dot(theta)\n",
        "        errors = predictions - y\n",
        "        gradient = (1/m) * X.T.dot(errors)\n",
        "        theta -= alpha * gradient\n",
        "        J = (1/(2*m)) * np.sum(errors**2)\n",
        "        J_history.append(J)\n",
        "    return theta, J_history\n",
        "\n",
        "# Ejecutar el descenso por el gradiente con y normalizado\n",
        "theta, J_history = gradientDescentMulti(X_normalized, y_normalized, theta, alpha, num_iters)\n",
        "\n",
        "# Graficar la convergencia del costo\n",
        "plt.plot(np.arange(len(J_history)), J_history, lw=2)\n",
        "plt.xlabel('Número de iteraciones')\n",
        "plt.ylabel('Costo J')\n",
        "plt.title('Convergencia del costo')\n",
        "plt.show()\n",
        "\n",
        "# Mostrar los resultados\n",
        "print('Theta calculado por el descenso por el gradiente:', theta)\n",
        "\n",
        "# Estimar la calidad para un vino con características específicas\n",
        "vino_nuevo = np.array([7.4, 5.7, 8, 7.9, 5.076, 10.0, 34.0, 0.9978, 3.51, 0.56, 9.4])\n",
        "\n",
        "# Ajustar la dimensión de vino_nuevo para que coincida con X\n",
        "if len(vino_nuevo) < X.shape[1]:\n",
        "    vino_nuevo = np.append(vino_nuevo, np.mean(X[:, len(vino_nuevo)]))\n",
        "\n",
        "# Normalizar características (excepto el término de intersección)\n",
        "vino_nuevo = (vino_nuevo - mu) / sigma\n",
        "\n",
        "# Agregar el término de intersección (1) al inicio de vino_nuevo\n",
        "vino_nuevo = np.insert(vino_nuevo, 0, 1)\n",
        "\n",
        "# Calcular la calidad predicha en la escala normalizada\n",
        "calidad_predicha_normalizada = np.dot(vino_nuevo, theta)\n",
        "\n",
        "# Reconvertir a la escala original de y con Min-Max\n",
        "calidad_predicha = calidad_predicha_normalizada * (y_max - y_min) + y_min\n",
        "\n",
        "# Ajustar valores negativos y reducir el sesgo\n",
        "calidad_predicha = max(0, calidad_predicha) + 1.5  # Ajuste menor para valores más bajos\n",
        "\n",
        "print(f'La calidad predicha para un vino con estas características es: {calidad_predicha:.2f}')\n",
        "\n",
        "\n"
      ]
    },
    {
      "cell_type": "code",
      "execution_count": 118,
      "metadata": {
        "id": "y0aZhWEqlHQ4"
      },
      "outputs": [],
      "source": [
        "\n",
        "X_array = np.array([1, 1222, 3], dtype=float)  # Convertir a NumPy array\n",
        "X_array[1:3] = (X_array[1:12] - mu[1:3]) / sigma[1:3]  # Normalizar correctamente\n"
      ]
    },
    {
      "cell_type": "code",
      "execution_count": 119,
      "metadata": {
        "id": "KZ4G9CbJlHQ4",
        "colab": {
          "base_uri": "https://localhost:8080/"
        },
        "outputId": "6c914560-b4f7-4faf-df3f-b5d5146e9ca7"
      },
      "outputs": [
        {
          "output_type": "stream",
          "name": "stdout",
          "text": [
            "La calidad predecida para el vino es: 0.67\n"
          ]
        }
      ],
      "source": [
        "calidad_predicha = np.dot(vino_nuevo, theta)\n",
        "\n",
        "print(f'La calidad predecida para el vino es: {calidad_predicha:.2f}')\n"
      ]
    },
    {
      "cell_type": "markdown",
      "metadata": {
        "id": "-nMzqD8elHQ4"
      },
      "source": [
        "<a id=\"section7\"></a>\n",
        "### 2.3 Ecuacion de la Normal\n",
        "\n",
        "Una manera de calcular rapidamente el modelo de una regresion lineal es:\n",
        "\n",
        "$$ \\theta = \\left( X^T X\\right)^{-1} X^T\\vec{y}$$\n",
        "\n",
        "Utilizando esta formula no requiere que se escale ninguna caracteristica, y se obtendra una solucion exacta con un solo calculo: no hay “bucles de convergencia” como en el descenso por el gradiente.\n",
        "\n",
        "Primero se recargan los datos para garantizar que las variables no esten modificadas. Recordar que no es necesario escalar las caracteristicas, se debe agregar la columna de unos a la matriz $X$ para tener el termino de intersección($\\theta_0$)."
      ]
    },
    {
      "cell_type": "code",
      "execution_count": 120,
      "metadata": {
        "id": "C6j77JNmlHQ5",
        "colab": {
          "base_uri": "https://localhost:8080/"
        },
        "outputId": "04ab0783-a35d-4761-ab20-c1fe2bc34686"
      },
      "outputs": [
        {
          "output_type": "stream",
          "name": "stdout",
          "text": [
            "Número total de muestras: 6498\n",
            "Primeras 5 filas de X:\n",
            "[[1.0 'botella_id' 'acidez fija']\n",
            " [1.0 '0' '9.5']\n",
            " [1.0 '1' '6.6']\n",
            " [1.0 '2' '9.4']\n",
            " [1.0 '3' '6.1']]\n",
            "Primeras 5 etiquetas y:\n",
            "['acidez volatil' '0.56' '0.24' '0.59' '0.32']\n"
          ]
        }
      ],
      "source": [
        "import pandas as pd\n",
        "data = pd.read_csv('/content/gdrive/MyDrive/IA/LABORATORIOS/1ERLAB/calidad_de_vino.csv', delimiter=',', header=None)\n",
        "\n",
        "# Seleccionar características y la variable objetivo\n",
        "X = data.iloc[:, :2].values  # Primeras dos columnas como matriz NumPy\n",
        "y = data.iloc[:, 2].values   # Tercera columna como vector NumPy\n",
        "m = len(y)  # Número de ejemplos\n",
        "\n",
        "# Agregar una columna de unos a X (para el término de sesgo en la regresión)\n",
        "X = np.concatenate([np.ones((m, 1)), X], axis=1)\n",
        "\n",
        "# Imprimir información sobre los datos\n",
        "print(f\"Número total de muestras: {m}\")\n",
        "print(\"Primeras 5 filas de X:\")\n",
        "print(X[:5, :])\n",
        "print(\"Primeras 5 etiquetas y:\")\n",
        "print(y[:5])"
      ]
    },
    {
      "cell_type": "code",
      "execution_count": 121,
      "metadata": {
        "id": "gVZdjjk9lHQ5"
      },
      "outputs": [],
      "source": [
        "def normalEqn(X, y):\n",
        "\n",
        "    theta = np.zeros(X.shape[1])\n",
        "\n",
        "    theta = np.dot(np.dot(np.linalg.inv(np.dot(X.T,X)),X.T),y)\n",
        "\n",
        "    return theta"
      ]
    },
    {
      "cell_type": "code",
      "source": [
        "data.info()"
      ],
      "metadata": {
        "colab": {
          "base_uri": "https://localhost:8080/"
        },
        "id": "artz_wEpyLe6",
        "outputId": "af21f1ba-ec9d-45f1-f0de-163bbd3c1de5"
      },
      "execution_count": 122,
      "outputs": [
        {
          "output_type": "stream",
          "name": "stdout",
          "text": [
            "<class 'pandas.core.frame.DataFrame'>\n",
            "RangeIndex: 6498 entries, 0 to 6497\n",
            "Data columns (total 14 columns):\n",
            " #   Column  Non-Null Count  Dtype \n",
            "---  ------  --------------  ----- \n",
            " 0   0       6498 non-null   object\n",
            " 1   1       6498 non-null   object\n",
            " 2   2       6498 non-null   object\n",
            " 3   3       6498 non-null   object\n",
            " 4   4       6498 non-null   object\n",
            " 5   5       6498 non-null   object\n",
            " 6   6       6498 non-null   object\n",
            " 7   7       6498 non-null   object\n",
            " 8   8       6498 non-null   object\n",
            " 9   9       6498 non-null   object\n",
            " 10  10      6498 non-null   object\n",
            " 11  11      6498 non-null   object\n",
            " 12  12      6498 non-null   object\n",
            " 13  13      6498 non-null   object\n",
            "dtypes: object(14)\n",
            "memory usage: 710.8+ KB\n"
          ]
        }
      ]
    },
    {
      "cell_type": "code",
      "execution_count": 142,
      "metadata": {
        "id": "Ybyw-FfolHQ5",
        "colab": {
          "base_uri": "https://localhost:8080/"
        },
        "outputId": "a9ac3dfd-d6fe-4d09-d18f-6bcd086d5969"
      },
      "outputs": [
        {
          "output_type": "stream",
          "name": "stdout",
          "text": [
            "La calidad predecida para un vino con estas características es: 123.57\n"
          ]
        }
      ],
      "source": [
        "import numpy as np\n",
        "import pandas as pd\n",
        "\n",
        "# Cargar datos\n",
        "datos_fijos = pd.read_csv('/content/gdrive/MyDrive/IA/LABORATORIOS/1ERLAB/calidad_de_vino.csv', delimiter=',')\n",
        "\n",
        "# Crear DataFrame\n",
        "dataset = pd.DataFrame(datos_fijos)\n",
        "\n",
        "# Codificar la columna categórica \"color\" usando one-hot encoding\n",
        "dataset = pd.get_dummies(dataset, columns=['color'], drop_first=True)\n",
        "\n",
        "# Convertir todas las columnas a tipo float\n",
        "dataset = dataset.astype(float)\n",
        "\n",
        "# Separar X y y (Excluir \"botella_id\" y usar \"calidad\" como variable de salida)\n",
        "X = dataset.iloc[:, 1:-1].values  # Todas las columnas excepto botella_id y calidad\n",
        "y = dataset.iloc[:, -1].values    # La calidad es la última columna\n",
        "\n",
        "# Agregar columna de unos (para sesgo)\n",
        "m = X.shape[0]  # Número de muestras\n",
        "X = np.concatenate([np.ones((m, 1)), X], axis=1)\n",
        "\n",
        "# Función para calcular theta con la ecuación normal\n",
        "def normalEqn(X, y):\n",
        "    return np.linalg.pinv(X.T @ X) @ X.T @ y\n",
        "\n",
        "# Calcular los parámetros theta\n",
        "theta = normalEqn(X, y)\n",
        "\n",
        "# Datos del nuevo vino\n",
        "vino_nuevo = np.array([7.4, 5.7, 8, 7.9, 5.076, 10.0, 34.0, 0.9978, 3.51, 0.56, 9.4, 1])  # Incluye la columna de color \"rojo\" (1)\n",
        "\n",
        "# Normalizar características\n",
        "mu = np.mean(X[:, 1:], axis=0)  # Media de cada columna\n",
        "sigma = np.std(X[:, 1:], axis=0)  # Desviación estándar de cada columna\n",
        "sigma[sigma == 0] = 1e-10  # Evitar divisiones por cero\n",
        "\n",
        "# Normalizar vino_nuevo\n",
        "vino_nuevo_normalizado = (vino_nuevo - mu) / sigma\n",
        "\n",
        "# Agregar el término de intersección (1) al inicio\n",
        "vino_nuevo_normalizado = np.insert(vino_nuevo_normalizado, 0, 1)\n",
        "\n",
        "# Calcular la predicción\n",
        "calidad_predicha = np.dot(vino_nuevo_normalizado, theta)\n",
        "\n",
        "# Asegurar que la predicción no sea negativa (ReLU)\n",
        "calidad_predicha = max(0, calidad_predicha)\n",
        "\n",
        "# Mostrar la predicción\n",
        "print(f'La calidad predecida para un vino con estas características es: {calidad_predicha:.2f}')\n"
      ]
    },
    {
      "cell_type": "code",
      "source": [],
      "metadata": {
        "id": "QWu8g8Xa5vUV"
      },
      "execution_count": null,
      "outputs": []
    }
  ],
  "metadata": {
    "kernelspec": {
      "display_name": "Python 3",
      "language": "python",
      "name": "python3"
    },
    "language_info": {
      "codemirror_mode": {
        "name": "ipython",
        "version": 3
      },
      "file_extension": ".py",
      "mimetype": "text/x-python",
      "name": "python",
      "nbconvert_exporter": "python",
      "pygments_lexer": "ipython3",
      "version": "3.8.5"
    },
    "colab": {
      "provenance": []
    }
  },
  "nbformat": 4,
  "nbformat_minor": 0
}